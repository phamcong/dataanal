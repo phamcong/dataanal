{
 "cells": [
  {
   "cell_type": "markdown",
   "metadata": {},
   "source": [
    "#### Lab Assignment 1\n",
    "Pick any game you know a decent amount about. It might be American football, soccer, ping-pong, rock-paper-scissors, Yoruba Ayo, League of Legends, Dungeons and Dragons, your job (if it's fun)—anything! As long as you are intimately familiar with it.\n",
    "\n",
    "Open up the /DAT210x/Module2/**assignment1.xls** file located the course repo. If you don't have Excel, the document looks like this:\n",
    "\n",
    "![lab-data-features](pic/lab-data-features.png)\n",
    "\n",
    "Notice how the **Type** column can only be *Numeric* or *Textual*, and the **Class** column can only be *Continuous*, *Ordinal*, or *Nominal*.\n",
    "\n",
    "Assuming you wanted to create a dataset that would hold various statistics about players playing the game you choose, come up with at least **seven** features of various type and class."
   ]
  },
  {
   "cell_type": "markdown",
   "metadata": {},
   "source": [
    "#### Lab Question\n",
    "Have you completed the above assignment?\n",
    "- [ ] No\n",
    "- [ ] Yes\n",
    "\n",
    "### Solar System Exploration, 1950s – 1960s\n",
    "\n",
    "- [ ] Mercury\n",
    "- [x] Venus\n",
    "- [x] Earth (Orbit/Moon)\n",
    "- [x] Mars\n",
    "- [ ] Jupiter\n",
    "- [ ] Saturn\n",
    "- [ ] Uranus\n",
    "- [ ] Neptune\n",
    "- [ ] Comet Haley"
   ]
  },
  {
   "cell_type": "code",
   "execution_count": null,
   "metadata": {
    "collapsed": true
   },
   "outputs": [],
   "source": []
  }
 ],
 "metadata": {
  "kernelspec": {
   "display_name": "Python 3",
   "language": "python",
   "name": "python3"
  },
  "language_info": {
   "codemirror_mode": {
    "name": "ipython",
    "version": 3
   },
   "file_extension": ".py",
   "mimetype": "text/x-python",
   "name": "python",
   "nbconvert_exporter": "python",
   "pygments_lexer": "ipython3",
   "version": "3.5.2"
  }
 },
 "nbformat": 4,
 "nbformat_minor": 0
}
