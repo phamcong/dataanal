{
 "cells": [
  {
   "cell_type": "markdown",
   "metadata": {},
   "source": [
    "#### Features Premiere\n",
    "With enough good data, it's simply amazing what you can get a computer to do. Part of having good data is ensuring your data is organized so it can be processed. To be usable by SciKit-Learn, the machine learning library for Python you'll be using in this course, your data needs to be organized into matrix of **samples** and **features**:\n",
    "\n",
    "![sample-feature](pic/features-premiere-1.png)\n",
    "\n",
    "A sample is any phenomenon you can describe with quantitative traits. They are represented in your dataset by rows. If you were building a dataset of 'companies', each sample would be details about a company. When it's said that you need a lot of data, what is generally meant is that you need many samples.\n",
    "\n",
    "Features are those quantitative traits that describe your samples. They might be numeric or textual, for example, *CompanyName* is a textual feature in your 'companies' dataset. Different samples might result in values such as 'Microsoft', 'EdX', or 'Coding Dojo' for the CompanyName feature. If *CompanyRating* were a numeric feature in the same dataset, its value might have score between 1 and 5 for each company:\n",
    "\n",
    "![sample-feature-example](pic/features-premiere-2.png)"
   ]
  },
  {
   "cell_type": "markdown",
   "metadata": {},
   "source": [
    "#### Feature Type\n",
    "There are many synonymous names for features. The background of the speaker, as well as the context of the conversation usually dictates which term is used:\n",
    "\n",
    "+ *Attribute* - Features are a quantitative attributes of the samples being observed\n",
    "+ *Axis* - Features are orthogonal axes of their feature space, if they are linearly independent\n",
    "+ *Column* - Features are represented as columns in your dataset\n",
    "+ *Dimension* - A dataset's features, grouped together can be treated as a n-dimensional coordinate space\n",
    "+ *Input* - Feature values are the input of data-driven, machine learning algorithms\n",
    "+ *Predictor* - Features used to predict other attributes are called predictors\n",
    "+ *View* - Each feature conveys a quantitative trait or perspective about the sample being observed\n",
    "+ *Independent Variable* - Autonomous features used to calculate others are like independent variables in algebraic equations\n",
    "\n",
    "Although they have many names, any given feature will fall into one of two types:\n",
    "\n",
    "![feature-type](pic/features-premiere-3.png)"
   ]
  },
  {
   "cell_type": "markdown",
   "metadata": {},
   "source": [
    "#### Continuous Features\n",
    "\n",
    "In the case of continuous features, there exist a measurable difference between possible feature values. Feature values usually are also a subset of all real numbers:\n",
    "\n",
    "+ Distance\n",
    "+ Time\n",
    "+ Cost\n",
    "+ Temperature"
   ]
  },
  {
   "cell_type": "markdown",
   "metadata": {},
   "source": [
    "#### Categorical Features\n",
    "\n",
    "With categorical features, there is a specified number of discrete, possible feature values. These values may or may not have ordering to them. If they do have a natural ordering, they are called ordinal categorical features. Otherwise if there is no intrinsic ordering, they are called nominal categorical features.\n",
    "\n",
    "+ Nominal\n",
    "  + Car Models\n",
    "  + Colors\n",
    "  + TV Shows\n",
    "+ Ordinal\n",
    "  + High-Medium-Low\n",
    "  + 1-10 Years Old11-20 Years Old, 30-40 Years Old\n",
    "  + Happy, Neutral, Sad"
   ]
  },
  {
   "cell_type": "markdown",
   "metadata": {},
   "source": [
    "#### An Important Note\n",
    "\n",
    "Continuous data is almost always represented with numeric features. But just because you have a numeric feature doesn't cause it to be continuous. There are times where you might have numerical categorical data.\n",
    "\n",
    "Imagine grading project submissions from groups of students. Each student might individually be assigned a score: 1, 2, 3, where the score represents the group they placed in (first, second, and third place). In this case, you are using a numeric feature to model an ordinal category. However in another dataset, 1, 2, 3 might be used to model nominal data. For example, if you have three different species labeled 1, 2, 3, that labeling has no intrinsic ordering and is thus a nominal category. In these two examples, the \"numeric\" feature represents either ordinal or nominal categorical data.\n",
    "\n",
    "This is an area that causes confusion for students. What happens if your dataset holds the age of 1000 people recorded in years? Should you treat it as continuous or as ordinal? Though technically ordinal, you can really represent it as either. Your choice should be driven by your desired outcome. If your interests lies in creating a formula that smoothly relates age to other features, treating it as continuous is more correct, even though you were given age-data in intervals. However if you're interested in getting back integer values for age given the other features, treat it as categorical."
   ]
  }
 ],
 "metadata": {
  "kernelspec": {
   "display_name": "Python 3",
   "language": "python",
   "name": "python3"
  },
  "language_info": {
   "codemirror_mode": {
    "name": "ipython",
    "version": 3
   },
   "file_extension": ".py",
   "mimetype": "text/x-python",
   "name": "python",
   "nbconvert_exporter": "python",
   "pygments_lexer": "ipython3",
   "version": "3.5.2"
  }
 },
 "nbformat": 4,
 "nbformat_minor": 0
}
