{
 "cells": [
  {
   "cell_type": "markdown",
   "metadata": {},
   "source": [
    "### Futher Reading\n",
    "#### Dive Deeper\n",
    "\n",
    "With a problem in mind you want to solve using machine learning, you started this section by learning about what features are, the different types of features, how to come up with useful features, and and how to perform basic dataset manipulation. All of these tasks and skills will help your along in the **collecting** phase of the data analysis process.\n",
    "\n",
    "You then proceeded to learn about how to perform some basic operations to clean up your data, such as nan and duplicate removal. These fall into the **wrangling** phase of the analysis process. Lastly, you studied how to properly encode your features in a manner most suited for machine learning. Although something you would want to handle as a pre-processing step during collection, technically, this actually falls into the **transforming** phase of the analysis processing. Even though the course map we provided has unidirectional arrows, there's no hard flow and you can jump around the different phases of your analysis.\n",
    "\n",
    "Now that your dataset is packed with data, you're just about ready to start exploring it at a much deeper and more interactive level. If you'd like, take a peek through these awesome resources to ensure you have all of the important concepts from this module covered.\n",
    "\n",
    "##### Pandas\n",
    "+ [Tutorials](http://pandas.pydata.org/pandas-docs/stable/tutorials.html)\n",
    "+ [Cookbooks](http://pandas.pydata.org/pandas-docs/stable/cookbook.html)\n",
    "+ [39 Data Wrangling Techniques](http://chrisalbon.com/#Python)\n",
    "+ [Working with Missing Data, Including Interpolation](http://pandas.pydata.org/pandas-docs/stable/missing_data.html)\n",
    "+ [Importance of Wrangling Missing Data](http://scikit-learn.org/stable/auto_examples/missing_values.html#example-missing-values-py)\n",
    "\n",
    "##### How to Select Good Features?\n",
    "+ [An Introduction to Feature Selection](http://machinelearningmastery.com/an-introduction-to-feature-selection/)\n",
    "+ [Jeff Howbert Intro to Machine Learning / Feature Creation](https://courses.washington.edu/css490/2012.Winter/lecture_slides/05a_feature_creation_selection.pdf)\n",
    "+ [Andrew Ng - Advice for Applying Machine Learning](http://cs229.stanford.edu/materials/ML-advice.pdf)\n",
    "\n",
    "##### Where to Find Good / Free Datasets?\n",
    "+ [Data.gov](https://www.data.gov)\n",
    "+ [UCI ML Datasets (Mirror)](https://archive.ics.uci.edu/ml/datasets.html)\n",
    "+ [Quora Answers](https://www.quora.com/Where-can-I-find-large-datasets-open-to-the-public?q=dataset)\n",
    "\n",
    "##### SciKit-Stuff\n",
    "+ [List of SciKits (In addition to SciKit-Learn)](https://scikits.appspot.com/scikits)\n",
    "+ [Sparse Matrix Conversions For Binary Datasets](https://stackoverflow.com/questions/17818783/populate-a-pandas-sparsedataframe-from-a-scipy-sparse-matrix#17819427)\n",
    "\n",
    "##### Feature Extraction\n",
    "+ [SciKit-Learn Feature Extraction](http://scikit-learn.org/stable/modules/feature_extraction.html#the-bag-of-words-representation)\n",
    "+ [Audio Feature Extraction (Many Methods)](http://www.ifs.tuwien.ac.at/~schindler/lectures/MIR_Feature_Extraction.html)"
   ]
  },
  {
   "cell_type": "code",
   "execution_count": null,
   "metadata": {
    "collapsed": true
   },
   "outputs": [],
   "source": []
  }
 ],
 "metadata": {
  "kernelspec": {
   "display_name": "Python 3",
   "language": "python",
   "name": "python3"
  },
  "language_info": {
   "codemirror_mode": {
    "name": "ipython",
    "version": 3
   },
   "file_extension": ".py",
   "mimetype": "text/x-python",
   "name": "python",
   "nbconvert_exporter": "python",
   "pygments_lexer": "ipython3",
   "version": "3.5.2"
  }
 },
 "nbformat": 4,
 "nbformat_minor": 0
}
