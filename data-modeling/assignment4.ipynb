{
 "cells": [
  {
   "cell_type": "code",
   "execution_count": 50,
   "metadata": {},
   "outputs": [],
   "source": [
    "import numpy as np\n",
    "import pandas as pd\n",
    "from sklearn import preprocessing\n",
    "import matplotlib.pyplot as plt\n",
    "import matplotlib\n",
    "%matplotlib inline\n",
    "\n",
    "#\n",
    "# TODO: Parameters to play around with\n",
    "PLOT_TYPE_TEXT = False # if you'd like to see indices\n",
    "PLOT_VECTORS = True    # if you'd like to see your original features in P.C.-Space\n",
    "\n",
    "matplotlib.style.use('ggplot') # Look Pretty\n",
    "c = ['red', 'green', 'blue', 'orange', 'yellow', 'brown']\n",
    "\n",
    "def drawVectors(transformed_features, components_, columns, plt):\n",
    "    num_columns = len(columns)\n",
    "    \n",
    "    # This function will project your *original* feature (columns)\n",
    "    # onto your principal component feature-space, so that you can\n",
    "    # visualize how \"important\" each one was in the\n",
    "    # multi-dimentional scaling\n",
    "    \n",
    "    # Scale the princial components by the max value in the\n",
    "    # transformed set belogging to that component.\n",
    "    xvector = components_[0] * max(transformed_features[:,0])\n",
    "    yvector = components_[1] * max(transformed_features[:,1])\n",
    "    \n",
    "    # Visualize projections\n",
    "    \n",
    "    # Sort each column by its length. These are your *original*\n",
    "    # columns, not the principal components.\n",
    "    import math\n",
    "    important_features = { columns[i] : math.sqrt(xvector[i]**2 + yvector[i]**2) for i in range(num_columns) }\n",
    "    important_features = sorted(zip(important_features.values(), important_features.keys()), reverse=True)\n",
    "    print (\"Projected Features by importance:\\n\", important_features)\n",
    "    \n",
    "    ax = plt.axes()\n",
    "    \n",
    "    for i in range(num_columns):\n",
    "        # Use an arrow to projet each original feature as a\n",
    "        # labeled vector on your principal component axes\n",
    "        plt.arrow(0, 0, xvector[i], yvector[i], color='b', width=0.0005, head_width=0.02, alpha=0.7, zorder=600000)\n",
    "        plt.text(xvector[i]*1.2, yvector[i]*1.2, list(columns)[i], color='b', alpha=0.75, zorder=600000)\n",
    "        \n",
    "    return ax\n",
    "\n",
    "def doPCA(data, dimensions=2):\n",
    "    from sklearn.decomposition import RandomizedPCA\n",
    "    model = RandomizedPCA(n_components=dimensions)\n",
    "    model.fit(data)\n",
    "    return model\n",
    "\n",
    "def doKMeans(data, clusters=0):\n",
    "    #\n",
    "    # TODO: do the KMeans clustering here, passing in the # of clusters parameter\n",
    "    # and fit it against your data. Then, return a tuple containing the cluster\n",
    "    # centers and the label\n",
    "    #\n",
    "    from sklearn.cluster import KMeans\n",
    "    model = KMeans(n_clusters=clusters)\n",
    "    model.fit(data)\n",
    "    return model.cluster_centers_, model.labels_"
   ]
  },
  {
   "cell_type": "code",
   "execution_count": 19,
   "metadata": {},
   "outputs": [
    {
     "name": "stdout",
     "output_type": "stream",
     "text": [
      "<class 'pandas.core.frame.DataFrame'>\n",
      "RangeIndex: 440 entries, 0 to 439\n",
      "Data columns (total 8 columns):\n",
      "Channel             440 non-null int64\n",
      "Region              440 non-null int64\n",
      "Fresh               440 non-null int64\n",
      "Milk                440 non-null int64\n",
      "Grocery             440 non-null int64\n",
      "Frozen              440 non-null int64\n",
      "Detergents_Paper    440 non-null int64\n",
      "Delicassen          440 non-null int64\n",
      "dtypes: int64(8)\n",
      "memory usage: 27.6 KB\n"
     ]
    }
   ],
   "source": [
    "#\n",
    "# TODO: Load up the datase. It has may or may not have nans in it. Make\n",
    "# sure you catch them and destroy them, by setting them to '0': This is valid\n",
    "# for this dataset, since if the value is missing, you can assume no $ was spent\n",
    "# on it.\n",
    "#\n",
    "df = pd.read_csv('Datasets/Wholesale customers data.csv')\n",
    "df.fillna(0)\n",
    "df.info()"
   ]
  },
  {
   "cell_type": "code",
   "execution_count": 23,
   "metadata": {},
   "outputs": [],
   "source": [
    "# \n",
    "# TODO: As instructed, get rid of the 'Chanel' and 'Region' columns, since\n",
    "# you'll be invertigating as if this were a single location wholesaler, rather\n",
    "# than a national / international one. Leaving these fields in here would cause\n",
    "# KMeans to example and give weight to them.\n",
    "#\n",
    "df = df.drop(['Channel', 'Region'], axis=1)"
   ]
  },
  {
   "cell_type": "code",
   "execution_count": 27,
   "metadata": {},
   "outputs": [
    {
     "name": "stdout",
     "output_type": "stream",
     "text": [
      "               Fresh          Milk       Grocery        Frozen  \\\n",
      "count     440.000000    440.000000    440.000000    440.000000   \n",
      "mean    12000.297727   5796.265909   7951.277273   3071.931818   \n",
      "std     12647.328865   7380.377175   9503.162829   4854.673333   \n",
      "min         3.000000     55.000000      3.000000     25.000000   \n",
      "25%      3127.750000   1533.000000   2153.000000    742.250000   \n",
      "50%      8504.000000   3627.000000   4755.500000   1526.000000   \n",
      "75%     16933.750000   7190.250000  10655.750000   3554.250000   \n",
      "max    112151.000000  73498.000000  92780.000000  60869.000000   \n",
      "\n",
      "       Detergents_Paper    Delicassen  \n",
      "count        440.000000    440.000000  \n",
      "mean        2881.493182   1524.870455  \n",
      "std         4767.854448   2820.105937  \n",
      "min            3.000000      3.000000  \n",
      "25%          256.750000    408.250000  \n",
      "50%          816.500000    965.500000  \n",
      "75%         3922.000000   1820.250000  \n",
      "max        40827.000000  47943.000000  \n"
     ]
    },
    {
     "data": {
      "text/plain": [
       "<matplotlib.axes._subplots.AxesSubplot at 0x1fe2f20c588>"
      ]
     },
     "execution_count": 27,
     "metadata": {},
     "output_type": "execute_result"
    },
    {
     "data": {
      "image/png": "[encoded data removed]",
      "text/plain": [
       "<matplotlib.figure.Figure at 0x1fe2ff39ac8>"
      ]
     },
     "metadata": {},
     "output_type": "display_data"
    }
   ],
   "source": [
    "#\n",
    "# TODO: Before unitizing / standardizing / normalizing your data in preparation for\n",
    "# K-Means, it's a good idead to get a quick peek at it. You can do this using the \n",
    "# .describe() method, or even by using the built-in pandas df.plot.hist()\n",
    "#\n",
    "print(df.describe())\n",
    "df.plot.hist()"
   ]
  },
  {
   "cell_type": "code",
   "execution_count": 31,
   "metadata": {},
   "outputs": [],
   "source": [
    "#\n",
    "# TODO: Having checked out your data, you may have noticed there's a pretty big gap\n",
    "# between the top customers in each feature category and thee rest. Some feature\n",
    "# scalling algo won't get rid of outliers for you, so it's a good idea to handle that\n",
    "# manually---particularly if your data is NOT to determine the top customers. After\n",
    "# all, you can do that with a simple Pandas .sort_values() and not a machine learning\n",
    "# clustering algorithm. From a business perspective, you're probably more interested\n",
    "# in clustering your +:- 2 standards deviation customers, rather than the creme delta\n",
    "# creme, or botton of the barrel'ers\n",
    "#\n",
    "# Remove top 5 and bottom 5 samples for each column:\n",
    "drop = {}\n",
    "for col in df.columns:\n",
    "    # Bottom 5\n",
    "    sort = df.sort_values(by=col, ascending=True)\n",
    "    if len(sort) > 5: sort=sort[:5]\n",
    "    for index in sort.index: drop[index] = True # Just store the index one\n",
    "    \n",
    "    # Top 5:\n",
    "    sort = df.sort_values(by=col, ascending=False)\n",
    "    if len(sort) > 5: sort=sort[:5]\n",
    "    for index in sort.index: drop[index] = True # Just store the index one"
   ]
  },
  {
   "cell_type": "code",
   "execution_count": 33,
   "metadata": {},
   "outputs": [
    {
     "name": "stdout",
     "output_type": "stream",
     "text": [
      "Dropping 42 Outliers...\n",
      "              Fresh          Milk       Grocery        Frozen  \\\n",
      "count    398.000000    398.000000    398.000000    398.000000   \n",
      "mean   10996.231156   5144.090452   7091.711055   2639.721106   \n",
      "std     9933.042596   5057.406574   6923.019293   2974.246906   \n",
      "min       37.000000    258.000000    314.000000     47.000000   \n",
      "25%     3324.500000   1571.250000   2155.500000    749.750000   \n",
      "50%     8257.500000   3607.500000   4573.000000   1526.000000   \n",
      "75%    15828.500000   6953.250000   9922.250000   3370.250000   \n",
      "max    53205.000000  29892.000000  39694.000000  17866.000000   \n",
      "\n",
      "       Detergents_Paper   Delicassen  \n",
      "count        398.000000   398.000000  \n",
      "mean        2562.974874  1278.736181  \n",
      "std         3608.176776  1220.745297  \n",
      "min           10.000000    11.000000  \n",
      "25%          273.250000   409.500000  \n",
      "50%          812.000000   946.500000  \n",
      "75%         3841.500000  1752.250000  \n",
      "max        19410.000000  7844.000000  \n"
     ]
    }
   ],
   "source": [
    "#\n",
    "# INFO Drop rows by index. We do this all at once in case there is a\n",
    "# collision. This way, we don't end up dropping more rows than we have\n",
    "# to, if there is a single row that satisfies the drop for multiple columns.\n",
    "# Since there are 6 rows, if we end up dropping < 5*6*2 = 60 rows, that means\n",
    "# there indeed were collisions.\n",
    "print (\"Dropping {0} Outliers...\".format(len(drop)))\n",
    "df.drop(inplace=True, labels=drop.keys(), axis=0)\n",
    "print (df.describe())"
   ]
  },
  {
   "cell_type": "code",
   "execution_count": 34,
   "metadata": {},
   "outputs": [],
   "source": [
    "#\n",
    "# INFO: What are you interested in?\n",
    "#\n",
    "# Depending on what you're interested in, you might take a different approach\n",
    "# to normalizing/standardizing your data.\n",
    "# \n",
    "# You should note that all columns left in the dataset are of the same unit.\n",
    "# You might ask yourself, do I even need to normalize / standardize the data?\n",
    "# The answer depends on what you're trying to accomplish. For instance, although\n",
    "# all the units are the same (generic money unit), the price per item in your\n",
    "# store isn't. There may be some cheap items and some expensive one. If your goal\n",
    "# is to find out what items people buy tend to buy together but you didn't \n",
    "# unitize properly before running kMeans, the contribution of the lesser priced\n",
    "# item would be dwarfed by the more expensive item.\n",
    "#\n",
    "# For a great overview on a few of the normalization methods supported in SKLearn,\n",
    "# please check out: https://stackoverflow.com/questions/30918781/right-function-for-normalizing-input-of-sklearn-svm\n",
    "#\n",
    "# Suffice to say, at the end of the day, you're going to have to know what question\n",
    "# you want answered and what data you have available in order to select the best\n",
    "# method for your purpose. Luckily, SKLearn's interfaces are easy to switch out\n",
    "# so in the mean time, you can experiment with all of them and see how they alter\n",
    "# your results.\n",
    "#\n",
    "#\n",
    "# 5-sec summary before you dive deeper online:\n",
    "#\n",
    "# NORMALIZATION: Let's say your user spend a LOT. Normalization divides each item by\n",
    "#                the average overall amount of spending. Stated differently, your\n",
    "#                new feature is = the contribution of overall spending going into\n",
    "#                that particular item: $spent on feature / $overall spent by sample\n",
    "#\n",
    "# MINMAX:        What % in the overall range of $spent by all users on THIS particular\n",
    "#                feature is the current sample's feature at? When you're dealing with\n",
    "#                all the same units, this will produce a near face-value amount. Be\n",
    "#                careful though: if you have even a single outlier, it can cause all\n",
    "#                your data to get squashed up in lower percentages.\n",
    "#                Imagine your buyers usually spend $100 on wholesale milk, but today\n",
    "#                only spent $20. This is the relationship you're trying to capture \n",
    "#                with MinMax. NOTE: MinMax doesn't standardize (std. dev.); it only\n",
    "#                normalizes / unitizes your feature, in the mathematical sense.\n",
    "#                MinMax can be used as an alternative to zero mean, unit variance scaling.\n",
    "#                [(sampleFeatureValue-min) / (max-min)] * (max-min) + min\n",
    "#                Where min and max are for the overall feature values for all samples."
   ]
  },
  {
   "cell_type": "code",
   "execution_count": 35,
   "metadata": {},
   "outputs": [],
   "source": [
    "#\n",
    "# TODO: Un-comment just ***ONE*** of lines at a time and see how alters your results\n",
    "# Pay attention to the direction of the arrows, as well as their LENGTHS\n",
    "T = preprocessing.StandardScaler().fit_transform(df)\n",
    "#T = preprocessing.MinMaxScaler().fit_transform(df)\n",
    "#T = preprocessing.MaxAbsScaler().fit_transform(df)\n",
    "#T = preprocessing.Normalizer().fit_transform(df)\n",
    "#T = df # No Change"
   ]
  },
  {
   "cell_type": "code",
   "execution_count": 40,
   "metadata": {},
   "outputs": [],
   "source": [
    "#\n",
    "# INFO: Sometimes people perform PCA before doing KMeans, so that KMeans only\n",
    "# operates on the most meaningful features. In our case, there are so few features\n",
    "# that doing PCA ahead of time isn't really necessary, and you can do KMeans in\n",
    "# feature space. But keep in mind you have the option to transform your data to\n",
    "# bring down its dimensionality. If you take that route, then your Clusters will\n",
    "# already be in PCA-transformed feature space, and you won't have to project them\n",
    "# again for visualization.\n",
    "\n",
    "\n",
    "# Do KMeans\n",
    "n_clusters = 3\n",
    "centroids, labels = doKMeans(T, n_clusters)"
   ]
  },
  {
   "cell_type": "code",
   "execution_count": 42,
   "metadata": {},
   "outputs": [
    {
     "name": "stdout",
     "output_type": "stream",
     "text": [
      "[[-0.26232459 -0.41632038 -0.43893222 -0.29733807 -0.38963897 -0.32590196]\n",
      " [-0.56995352  1.31744707  1.58541223 -0.33454978  1.59481374  0.27849802]\n",
      " [ 1.20725644 -0.12927099 -0.31707856  1.08169261 -0.45400669  0.59174102]]\n"
     ]
    }
   ],
   "source": [
    "#\n",
    "# TODO: Print out your centroids. They're currently in feature-space, which\n",
    "# is good. Print them out before you transform them into PCA space for viewing\n",
    "#\n",
    "print(centroids)\n"
   ]
  },
  {
   "cell_type": "code",
   "execution_count": 43,
   "metadata": {},
   "outputs": [
    {
     "name": "stderr",
     "output_type": "stream",
     "text": [
      "C:\\Users\\CongCuongPHAM\\AppData\\Local\\Continuum\\anaconda3\\lib\\site-packages\\sklearn\\utils\\deprecation.py:58: DeprecationWarning: Class RandomizedPCA is deprecated; RandomizedPCA was deprecated in 0.18 and will be removed in 0.20. Use PCA(svd_solver='randomized') instead. The new implementation DOES NOT store whiten ``components_``. Apply transform to get them.\n",
      "  warnings.warn(msg, category=DeprecationWarning)\n"
     ]
    }
   ],
   "source": [
    "# Do PCA *after* to visualize the results. Project the centroids as well as \n",
    "# the samples into the new 2D feature space for visualization purposes.\n",
    "display_pca = doPCA(T)\n",
    "T = display_pca.transform(T)\n",
    "CC = display_pca.transform(centroids)"
   ]
  },
  {
   "cell_type": "code",
   "execution_count": 51,
   "metadata": {},
   "outputs": [
    {
     "name": "stdout",
     "output_type": "stream",
     "text": [
      "Projected Features by importance:\n",
      " [(4.439422524289905, 'Grocery'), (4.3521532757037855, 'Detergents_Paper'), (4.209841269791215, 'Milk'), (2.94634030532376, 'Delicassen'), (2.6965214173655356, 'Fresh'), (2.6383798432550747, 'Frozen')]\n",
      "     Fresh   Milk  Grocery  Frozen  Detergents_Paper  Delicassen  label\n",
      "0    12669   9656     7561     214              2674        1338      0\n",
      "1     7057   9810     9568    1762              3293        1776      0\n",
      "2     6353   8808     7684    2405              3516        7844      2\n",
      "3    13265   1196     4221    6404               507        1788      2\n",
      "4    22615   5410     7198    3915              1777        5185      2\n",
      "5     9413   8259     5126     666              1795        1451      0\n",
      "6    12126   3199     6975     480              3140         545      0\n",
      "7     7579   4956     9426    1669              3321        2566      0\n",
      "8     5963   3648     6192     425              1716         750      0\n",
      "9     6006  11093    18881    1159              7425        2098      1\n",
      "10    3366   5403    12974    4400              5977        1744      1\n",
      "11   13146   1124     4523    1420               549         497      0\n",
      "12   31714  12319    11757     287              3881        2931      2\n",
      "13   21217   6208    14982    3095              6707         602      1\n",
      "14   24653   9465    12091     294              5058        2168      1\n",
      "15   10253   1114     3821     397               964         412      0\n",
      "16    1020   8816    12121     134              4508        1080      1\n",
      "17    5876   6157     2933     839               370        4478      0\n",
      "18   18601   6327    10099    2205              2767        3181      2\n",
      "19    7780   2495     9464     669              2518         501      0\n",
      "20   17546   4519     4602    1066              2259        2124      0\n",
      "21    5567    871     2010    3383               375         569      0\n",
      "22   31276   1917     4469    9408              2381        4334      2\n",
      "24   22647   9776    13792    2915              4482        5778      2\n",
      "25   16165   4230     7595     201              4003          57      0\n",
      "26    9898    961     2861    3151               242         833      0\n",
      "27   14276    803     3045     485               100         518      0\n",
      "28    4113  20484    25957    1158              8604        5206      1\n",
      "29   43088   2100     2609    1200              1107         823      2\n",
      "30   18815   3610    11107    1148              2134        2963      2\n",
      "..     ...    ...      ...     ...               ...         ...    ...\n",
      "409   8708   3634     6100    2349              2123        5137      2\n",
      "410   6633   2096     4563    1389              1860        1892      0\n",
      "411   2126   3289     3281    1535               235        4365      0\n",
      "412     97   3605    12400      98              2970          62      0\n",
      "413   4983   4859     6633   17866               912        2435      2\n",
      "414   5969   1990     3417    5679              1135         290      0\n",
      "415   7842   6046     8552    1691              3540        1874      0\n",
      "416   4389  10940    10908     848              6728         993      1\n",
      "417   5065   5499    11055     364              3485        1063      0\n",
      "418    660   8494    18622     133              6740         776      1\n",
      "419   8861   3783     2223     633              1580        1521      0\n",
      "421  17063   4847     9053    1031              3415        1784      0\n",
      "422  26400   1377     4172     830               948        1218      0\n",
      "423  17565   3686     4657    1059              1803         668      0\n",
      "424  16980   2884    12232     874              3213         249      0\n",
      "425  11243   2408     2593   15348               108        1886      2\n",
      "426  13134   9347    14316    3141              5079        1894      1\n",
      "427  31012  16687     5429   15082               439        1163      2\n",
      "428   3047   5970     4910    2198               850         317      0\n",
      "429   8607   1750     3580      47                84        2501      0\n",
      "430   3097   4230    16483     575               241        2080      0\n",
      "431   8533   5506     5160   13486              1377        1498      2\n",
      "432  21117   1162     4754     269              1328         395      0\n",
      "433   1982   3218     1493    1541               356        1449      0\n",
      "434  16731   3922     7994     688              2371         838      0\n",
      "435  29703  12051    16027   13135               182        2204      2\n",
      "436  39228   1431      764    4510                93        2346      2\n",
      "437  14531  15488    30243     437             14841        1867      1\n",
      "438  10290   1981     2232    1038               168        2125      0\n",
      "439   2787   1698     2510      65               477          52      0\n",
      "\n",
      "[398 rows x 7 columns]\n"
     ]
    },
    {
     "name": "stderr",
     "output_type": "stream",
     "text": [
      "C:\\Users\\CongCuongPHAM\\AppData\\Local\\Continuum\\anaconda3\\lib\\site-packages\\matplotlib\\cbook\\deprecation.py:106: MatplotlibDeprecationWarning: Adding an axes using the same arguments as a previous axes currently reuses the earlier instance.  In a future version, a new instance will always be created and returned.  Meanwhile, this warning can be suppressed, and the future behavior ensured, by passing a unique label to each axes instance.\n",
      "  warnings.warn(message, mplDeprecation, stacklevel=1)\n"
     ]
    },
    {
     "data": {
      "image/png": "[encoded data removed]",
      "text/plain": [
       "<matplotlib.figure.Figure at 0x1fe2f5cb0b8>"
      ]
     },
     "metadata": {},
     "output_type": "display_data"
    }
   ],
   "source": [
    "# Visualize all the samples. Give them the color of their cluster label\n",
    "fig = plt.figure()\n",
    "ax = fig.add_subplot(111)\n",
    "if PLOT_TYPE_TEXT:\n",
    "  # Plot the index of the sample, so you can further investigate it in your dset\n",
    "  for i in range(len(T)): ax.text(T[i,0], T[i,1], df.index[i], color=c[labels[i]], alpha=0.75, zorder=600000)\n",
    "  ax.set_xlim(min(T[:,0])*1.2, max(T[:,0])*1.2)\n",
    "  ax.set_ylim(min(T[:,1])*1.2, max(T[:,1])*1.2)\n",
    "else:\n",
    "  # Plot a regular scatter plot\n",
    "  sample_colors = [ c[labels[i]] for i in range(len(T)) ]\n",
    "  ax.scatter(T[:, 0], T[:, 1], c=sample_colors, marker='o', alpha=0.2)\n",
    "\n",
    "\n",
    "# Plot the Centroids as X's, and label them\n",
    "ax.scatter(CC[:, 0], CC[:, 1], marker='x', s=169, linewidths=3, zorder=1000, c=c)\n",
    "for i in range(len(centroids)): ax.text(CC[i, 0], CC[i, 1], str(i), zorder=500010, fontsize=18, color=c[i])\n",
    "\n",
    "\n",
    "# Display feature vectors for investigation:\n",
    "if PLOT_VECTORS: drawVectors(T, display_pca.components_, df.columns, plt)\n",
    "\n",
    "\n",
    "# Add the cluster label back into the dataframe and display it:\n",
    "df['label'] = pd.Series(labels, index=df.index)\n",
    "print (df)\n",
    "\n",
    "plt.show()"
   ]
  },
  {
   "cell_type": "code",
   "execution_count": null,
   "metadata": {},
   "outputs": [],
   "source": []
  }
 ],
 "metadata": {
  "kernelspec": {
   "display_name": "Python 3",
   "language": "python",
   "name": "python3"
  },
  "language_info": {
   "codemirror_mode": {
    "name": "ipython",
    "version": 3
   },
   "file_extension": ".py",
   "mimetype": "text/x-python",
   "name": "python",
   "nbconvert_exporter": "python",
   "pygments_lexer": "ipython3",
   "version": "3.6.4"
  }
 },
 "nbformat": 4,
 "nbformat_minor": 2
}
