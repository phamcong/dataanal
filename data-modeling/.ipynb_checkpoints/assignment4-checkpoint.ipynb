{
 "cells": [
  {
   "cell_type": "code",
   "execution_count": 1,
   "metadata": {},
   "outputs": [],
   "source": [
    "import numpy as np\n",
    "import pandas as pd\n",
    "from sklearn import preprocessing\n",
    "import matplotlib.pyplot as plt\n",
    "import matplotlib\n",
    "%matplotlib inline\n",
    "\n",
    "#\n",
    "# TODO: Parameters to play around with\n",
    "PLOT_TYPE_TEXT = False # if you'd like to see indices\n",
    "PLOT_VECTORS = True    # if you'd like to see your original features in P.C.-Space\n",
    "\n",
    "matplotlib.style.use('ggplot') # Look Pretty\n",
    "c = ['red', 'green', 'blue', 'orange', 'yellow', 'brown']\n",
    "\n",
    "def drawVectors(transformed_features, components_, columns, plt):\n",
    "    num_columns = len(columns)\n",
    "    \n",
    "    # This function will project your *original* feature (columns)\n",
    "    # onto your principal component feature-space, so that you can\n",
    "    # visualize how \"important\" each one was in the\n",
    "    # multi-dimentional scaling\n",
    "    \n",
    "    # Scale the princial components by the max value in the\n",
    "    # transformed set belogging to that component.\n",
    "    xvetor = components_[0] * max(transformed_features[:,0])\n",
    "    yvetor = components_[1] * max(transformed_features[:,1])\n",
    "    \n",
    "    # Visualize projections\n",
    "    \n",
    "    # Sort each column by its length. These are your *original*\n",
    "    # columns, not the principal components.\n",
    "    import math\n",
    "    important_features = { columns[i] : math.spart(xvector[i]**2 + yvector[i]**2) for i in range(num_columns) }\n",
    "    important_features = sorted(zip(important_features.value(), important_features.keys()), reverse=True)\n",
    "    print (\"Projected Features by importance:\\n\", important_features)\n",
    "    \n",
    "    ax = plt.axes()\n",
    "    \n",
    "    for i in range(num_columns):\n",
    "        # Use an arrow to projet each original feature as a\n",
    "        # labeled vector on your principal component axes\n",
    "        plt.arrow(0, 0, xvector[i], yvector[i], color='b', width=0.0005, head_width=0.02, alpha=0.7, zorder=600000)\n",
    "        plt.text(xvector[i]*1.2, yvector[i]*1.2, list(columns)[i], color='b', alpha=0.75, zorder=600000)\n",
    "        \n",
    "    return ax\n",
    "\n",
    "def doPCA(data, dimensions=2):\n",
    "    from sklearn.decomposition import RandomizedPCA\n",
    "    model = RandomizedPCA(n_components=dimensions)\n",
    "    model.fit(data)\n",
    "    return model\n",
    "\n",
    "def doKmeans(data, clusters=0):\n",
    "    #\n",
    "    # TODO: do the KMeans clustering here, passing in the # of clusters parameter\n",
    "    # and fit it against your data. Then, return a tuple containing the cluster\n",
    "    # centers and the label\n",
    "    #\n",
    "    from sklearn.cluster import KMeans\n",
    "    model = Kmeans(n_clusters=clusters)\n",
    "    model.fit(data)\n",
    "    return model.cluster_centers_, model.labels_"
   ]
  },
  {
   "cell_type": "code",
   "execution_count": 19,
   "metadata": {},
   "outputs": [
    {
     "name": "stdout",
     "output_type": "stream",
     "text": [
      "<class 'pandas.core.frame.DataFrame'>\n",
      "RangeIndex: 440 entries, 0 to 439\n",
      "Data columns (total 8 columns):\n",
      "Channel             440 non-null int64\n",
      "Region              440 non-null int64\n",
      "Fresh               440 non-null int64\n",
      "Milk                440 non-null int64\n",
      "Grocery             440 non-null int64\n",
      "Frozen              440 non-null int64\n",
      "Detergents_Paper    440 non-null int64\n",
      "Delicassen          440 non-null int64\n",
      "dtypes: int64(8)\n",
      "memory usage: 27.6 KB\n"
     ]
    }
   ],
   "source": [
    "#\n",
    "# TODO: Load up the datase. It has may or may not have nans in it. Make\n",
    "# sure you catch them and destroy them, by setting them to '0': This is valid\n",
    "# for this dataset, since if the value is missing, you can assume no $ was spent\n",
    "# on it.\n",
    "#\n",
    "df = pd.read_csv('Datasets/Wholesale customers data.csv')\n",
    "df.fillna(0)\n",
    "df.info()"
   ]
  },
  {
   "cell_type": "code",
   "execution_count": 23,
   "metadata": {},
   "outputs": [],
   "source": [
    "# \n",
    "# TODO: As instructed, get rid of the 'Chanel' and 'Region' columns, since\n",
    "# you'll be invertigating as if this were a single location wholesaler, rather\n",
    "# than a national / international one. Leaving these fields in here would cause\n",
    "# KMeans to example and give weight to them.\n",
    "#\n",
    "df = df.drop(['Channel', 'Region'], axis=1)"
   ]
  },
  {
   "cell_type": "code",
   "execution_count": 27,
   "metadata": {},
   "outputs": [
    {
     "name": "stdout",
     "output_type": "stream",
     "text": [
      "               Fresh          Milk       Grocery        Frozen  \\\n",
      "count     440.000000    440.000000    440.000000    440.000000   \n",
      "mean    12000.297727   5796.265909   7951.277273   3071.931818   \n",
      "std     12647.328865   7380.377175   9503.162829   4854.673333   \n",
      "min         3.000000     55.000000      3.000000     25.000000   \n",
      "25%      3127.750000   1533.000000   2153.000000    742.250000   \n",
      "50%      8504.000000   3627.000000   4755.500000   1526.000000   \n",
      "75%     16933.750000   7190.250000  10655.750000   3554.250000   \n",
      "max    112151.000000  73498.000000  92780.000000  60869.000000   \n",
      "\n",
      "       Detergents_Paper    Delicassen  \n",
      "count        440.000000    440.000000  \n",
      "mean        2881.493182   1524.870455  \n",
      "std         4767.854448   2820.105937  \n",
      "min            3.000000      3.000000  \n",
      "25%          256.750000    408.250000  \n",
      "50%          816.500000    965.500000  \n",
      "75%         3922.000000   1820.250000  \n",
      "max        40827.000000  47943.000000  \n"
     ]
    },
    {
     "data": {
      "text/plain": [
       "<matplotlib.axes._subplots.AxesSubplot at 0x1fe2f20c588>"
      ]
     },
     "execution_count": 27,
     "metadata": {},
     "output_type": "execute_result"
    },
    {
     "data": {
      "image/png": "[encoded data removed]",
      "text/plain": [
       "<matplotlib.figure.Figure at 0x1fe2ff39ac8>"
      ]
     },
     "metadata": {},
     "output_type": "display_data"
    }
   ],
   "source": [
    "#\n",
    "# TODO: Before unitizing / standardizing / normalizing your data in preparation for\n",
    "# K-Means, it's a good idead to get a quick peek at it. You can do this using the \n",
    "# .describe() method, or even by using the built-in pandas df.plot.hist()\n",
    "#\n",
    "print(df.describe())\n",
    "df.plot.hist()"
   ]
  },
  {
   "cell_type": "code",
   "execution_count": 29,
   "metadata": {},
   "outputs": [
    {
     "data": {
      "text/plain": [
       "<matplotlib.axes._subplots.AxesSubplot at 0x1fe2f7f6898>"
      ]
     },
     "execution_count": 29,
     "metadata": {},
     "output_type": "execute_result"
    },
    {
     "data": {
      "image/png": "[encoded data removed]",
      "text/plain": [
       "<matplotlib.figure.Figure at 0x1fe2ea621d0>"
      ]
     },
     "metadata": {},
     "output_type": "display_data"
    }
   ],
   "source": [
    "#\n",
    "# TODO: Having checked out your data, you may have noticed there's a pretty big gap\n",
    "# between the top customers in each feature category and thee rest. Some feature\n",
    "# scalling algo won't get rid of outliers for you, so it's a good idea to handle that\n",
    "# manually---particularly if your data is NOT to determine the top customers. After\n",
    "# all, you can do that with a simple Pandas .sort_values() and not a machine learning\n",
    "# clustering algorithm. From a business perspective, you're probably more interested\n",
    "# in clustering your +:- 2 standards deviation customers, rather than the creme delta\n",
    "# creme, or botton of the barrel'ers\n",
    "#\n",
    "# Remove top 5 and bottom 5 samples for each column:\n"
   ]
  },
  {
   "cell_type": "code",
   "execution_count": null,
   "metadata": {},
   "outputs": [],
   "source": []
  }
 ],
 "metadata": {
  "kernelspec": {
   "display_name": "Python 3",
   "language": "python",
   "name": "python3"
  },
  "language_info": {
   "codemirror_mode": {
    "name": "ipython",
    "version": 3
   },
   "file_extension": ".py",
   "mimetype": "text/x-python",
   "name": "python",
   "nbconvert_exporter": "python",
   "pygments_lexer": "ipython3",
   "version": "3.6.4"
  }
 },
 "nbformat": 4,
 "nbformat_minor": 2
}
